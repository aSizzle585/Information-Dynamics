{
 "cells": [
  {
   "cell_type": "code",
   "execution_count": 1,
   "id": "280c2e26-20f0-4c62-81ca-fa63a79d4f4d",
   "metadata": {},
   "outputs": [],
   "source": [
    "## libraries \n",
    "\n",
    "import subprocess\n",
    "import anndata\n",
    "import scanpy as sc\n",
    "import pandas as pd\n",
    "import os\n",
    "import scEntropy.scEntropy as scEntropy\n",
    "import csv\n",
    "import numpy as np\n",
    "from matplotlib import pyplot as plt "
   ]
  },
  {
   "cell_type": "code",
   "execution_count": 2,
   "id": "3f3eab75-8dcb-4862-a7c4-35f540c571b1",
   "metadata": {},
   "outputs": [],
   "source": [
    "## functions \n",
    "def adataX2pandas(adata):\n",
    "    gene_expression = pd.DataFrame(adata.X)\n",
    "    gene_expression.columns = adata.var.index \n",
    "    gene_expression.index = adata.obs.index\n",
    "    gene_expression = gene_expression.T\n",
    "    return(gene_expression)\n",
    "\n",
    "def Generating_data_for_I_go(adata):\n",
    "    gene_expression_df = pd.DataFrame()\n",
    "    gene_expression_df = pd.concat([gene_expression_df, pd.DataFrame(adata.X)], axis=1)\n",
    "    gene_expression_df.columns = [adata.var.index]\n",
    "    gene_expression_df.to_csv('data/gene_expression.csv')\n",
    "    adata.obs.to_csv(\"data/adataobs.csv\")\n",
    "    adata.var.to_csv(\"data/adatavar.csv\")\n",
    "\n",
    "# calculating E, S, C\n",
    "def calculating_ESC(adata, I_ge_label=\"I_ge\", I_go_label=\"I_go\"):\n",
    "    \n",
    "    E = adata.obs[I_go_label]/adata.obs[I_ge_label]\n",
    "    S = adata.obs[I_ge_label] - adata.obs[I_go_label]\n",
    "    C = E * S\n",
    "    \n",
    "    adata.obs['E'] = E \n",
    "    adata.obs['S'] = S\n",
    "    adata.obs['C'] = C \n",
    "    \n",
    "    \n",
    "    return adata\n",
    "\n",
    "def Returning_I_go(adata):\n",
    "\n",
    "    # 1. Generating relavent files\n",
    "    Generating_data_for_I_go(adata)\n",
    "\n",
    "    # 2. Running R script\n",
    "    subprocess.call(\"R CMD BATCH REntropyIgo.r\", shell=True)\n",
    "\n",
    "    # 3. loading data\n",
    "    I_go = pd.read_csv(\"data/Rigo.csv\")\n",
    "\n",
    "    return(I_go)"
   ]
  },
  {
   "cell_type": "code",
   "execution_count": 4,
   "id": "bb4e1d06-0fe6-48c6-80a3-97bd961d2eeb",
   "metadata": {},
   "outputs": [
    {
     "name": "stdout",
     "output_type": "stream",
     "text": [
      "loading adata object\n"
     ]
    }
   ],
   "source": [
    "## start of script \n",
    "\n",
    "## finding Ige \n",
    "\n",
    "## loading adata object\n",
    "adata = sc.read_h5ad(\"data/TrajectInfer.h5ad\")\n",
    "print(\"loading adata object\")"
   ]
  },
  {
   "cell_type": "markdown",
   "id": "56b2987d-6c7b-464f-b6bf-8d883651288c",
   "metadata": {},
   "source": [
    "# Getting I_ge"
   ]
  },
  {
   "cell_type": "code",
   "execution_count": null,
   "id": "a565a7f2-b446-4786-b949-4b7c0aa36644",
   "metadata": {},
   "outputs": [],
   "source": [
    "# Getting I_ge (scEntropy)\n",
    "# I_ge = scEntropy.scEntropy(adataX2pandas(adata), option='RCSA')\n",
    "# print(\"Getting I_ge\")"
   ]
  },
  {
   "cell_type": "code",
   "execution_count": 26,
   "id": "17710b58-bc9f-4b43-894e-98b4dd0885e4",
   "metadata": {},
   "outputs": [
    {
     "name": "stdout",
     "output_type": "stream",
     "text": [
      "WARNING: In Scanpy 0.*, this returned logarithmized data. Now it returns non-logarithmized data.\n",
      "AnnData object with n_obs × n_vars = 2730 × 3451\n",
      "    obs: 'paul15_clusters'\n",
      "    uns: 'iroot'\n"
     ]
    },
    {
     "name": "stderr",
     "output_type": "stream",
     "text": [
      "/home/balubao/anaconda3/envs/EntropyV2/lib/python3.10/site-packages/scanpy/datasets/_datasets.py:202: ImplicitModificationWarning: Trying to modify attribute `._uns` of view, initializing view as actual.\n",
      "  adata.uns['iroot'] = 840\n"
     ]
    }
   ],
   "source": [
    "# ad hoc attempt\n",
    "\n",
    "adata_raw = sc.datasets.paul15()\n",
    "print(adata_raw)"
   ]
  },
  {
   "cell_type": "code",
   "execution_count": 54,
   "id": "edf4508b-6f29-44ea-9430-70e724b915f9",
   "metadata": {},
   "outputs": [
    {
     "name": "stdout",
     "output_type": "stream",
     "text": [
      "0       0.000534\n",
      "1       0.003344\n",
      "2       0.005469\n",
      "3       0.005849\n",
      "4       0.005721\n",
      "          ...   \n",
      "2725    0.004579\n",
      "2726    0.004595\n",
      "2727    0.000729\n",
      "2728    0.004505\n",
      "2729    0.006359\n",
      "Length: 2730, dtype: float32\n"
     ]
    },
    {
     "name": "stderr",
     "output_type": "stream",
     "text": [
      "/home/balubao/anaconda3/envs/EntropyV2/lib/python3.10/site-packages/pandas/core/internals/blocks.py:329: RuntimeWarning: divide by zero encountered in log\n",
      "  result = func(self.values, **kwargs)\n"
     ]
    }
   ],
   "source": [
    "gene_expression_df = pd.DataFrame(adata_raw.X)\n",
    "\n",
    "# gene_expression_df.iloc()/np.sum(gene_expression_df, axis=1)[1]\n",
    "prob = gene_expression_df.div(gene_expression_df.sum(), axis=1)\n",
    "logprob = np.log(prob)\n",
    "logprob[np.isinf(logprob)]=0\n",
    "\n",
    "scent = -np.sum(prob*logprob, axis=1)/prob.shape[\n",
    "print(scent)"
   ]
  },
  {
   "cell_type": "code",
   "execution_count": 55,
   "id": "8a6671f2-1e51-4961-837b-c3db11b392f6",
   "metadata": {},
   "outputs": [],
   "source": [
    "adata.obs[\"I_ge\"] = scent"
   ]
  },
  {
   "cell_type": "markdown",
   "id": "8ed0074d-453d-48cb-af96-d7dc1de81643",
   "metadata": {},
   "source": [
    "# Getting I_go "
   ]
  },
  {
   "cell_type": "code",
   "execution_count": null,
   "id": "96900e44-18fc-449d-a5c9-ee59f87b7720",
   "metadata": {},
   "outputs": [],
   "source": [
    "# Getting I_go \n",
    "# I_go = Returning_I_go(adata)\n",
    "# print(\"Getting I_go\")"
   ]
  },
  {
   "cell_type": "code",
   "execution_count": null,
   "id": "434d0485-21dd-42aa-b49c-b9d3d4aec728",
   "metadata": {},
   "outputs": [],
   "source": [
    "## generate entropies at different coarse grains\n",
    "##DEMO\n",
    "import random\n",
    "\n",
    "categories = [\"A\", \"B\", \"C\", \"D\", \"E\"]\n",
    "\n",
    "# Generate a random array of categorical labels\n",
    "gene_group_labels = [random.choice(categories) for _ in range(adata_raw.shape[1])]  # Replace 10 with the desired length\n",
    "len(gene_group_labels)\n",
    "\n",
    "## by GO scale"
   ]
  },
  {
   "cell_type": "code",
   "execution_count": 87,
   "id": "f6e12de0-26be-4bf3-ae95-98c832246925",
   "metadata": {},
   "outputs": [],
   "source": [
    "gene_expression_pp_df = np.log1p(gene_expression_df.div(gene_expression_df.sum(), axis=1)*1e4)"
   ]
  },
  {
   "cell_type": "code",
   "execution_count": 94,
   "id": "cf09025e-3dd8-4363-88c1-689f4d6e3dae",
   "metadata": {},
   "outputs": [
    {
     "data": {
      "text/plain": [
       "array([[1.        , 0.        , 0.        , ..., 0.        , 0.        ,\n",
       "        0.        ],\n",
       "       [0.        , 1.        , 0.        , ..., 0.        , 0.        ,\n",
       "        0.        ],\n",
       "       [0.        , 0.        , 1.        , ..., 0.        , 0.00487317,\n",
       "        0.        ],\n",
       "       ...,\n",
       "       [0.        , 0.        , 0.        , ..., 1.        , 0.0045517 ,\n",
       "        0.        ],\n",
       "       [0.        , 0.        , 0.00487317, ..., 0.0045517 , 1.        ,\n",
       "        0.        ],\n",
       "       [0.        , 0.        , 0.        , ..., 0.        , 0.        ,\n",
       "        1.        ]])"
      ]
     },
     "execution_count": 94,
     "metadata": {},
     "output_type": "execute_result"
    }
   ],
   "source": [
    "## Might be easier to compute in R where WGCNA is established. Perhaps even create independent conda env for it.\n",
    "thresh = 0.3 #there are methods to choose parameters based on scale-free topology assumption.\n",
    "beta = 5\n",
    "\n",
    "GCN = np.abs(np.corrcoef(gene_expression_pp_df.transpose())) #more robust methods include spearman and biweight midcorrelation - see WGCNA\n",
    "GCN[GCN<thresh] = 0\n",
    "GCN_pp = GCN**beta \n",
    "GCN_pp\n",
    "\n",
    "\n"
   ]
  },
  {
   "cell_type": "code",
   "execution_count": 67,
   "id": "777090d5-510c-4bbc-b787-3a01a870919d",
   "metadata": {},
   "outputs": [
    {
     "data": {
      "text/plain": [
       "(2730, 5)"
      ]
     },
     "execution_count": 67,
     "metadata": {},
     "output_type": "execute_result"
    }
   ],
   "source": [
    "## by GCN clustering scale\n",
    "\n",
    "# use something similar to WGCNA, then slice heirarical clustering tree at different heights.\n",
    "# 100-70-50-20 modules.\n",
    "\n",
    "def CompressMatrixByLabels(matrix, labels):\n",
    "\n",
    "    # Get unique categories from the label array\n",
    "    unique_categories = np.unique(labels)\n",
    "    \n",
    "    # Create an empty dictionary to hold the indices of each category\n",
    "    category_indices = {category: [] for category in unique_categories}\n",
    "    \n",
    "    # Populate the dictionary with indices\n",
    "    for idx, category in enumerate(labels):\n",
    "        category_indices[category].append(idx)\n",
    "    \n",
    "    # Calculate the mean for each category\n",
    "    compressed_matrix = np.zeros((matrix.shape[0], len(unique_categories)))\n",
    "    for category, indices in category_indices.items():\n",
    "        category_mean = np.mean(matrix[:, indices], axis=1)\n",
    "        compressed_matrix[:, unique_categories == category] = category_mean[:, np.newaxis]\n",
    "        \n",
    "    return compressed_matrix\n",
    "\n",
    "coarsed_gene_df = CompressMatrixByLabels(gene_expression_df.to_numpy(), gene_group_labels)\n",
    "coarsed_gene_df.shape"
   ]
  },
  {
   "cell_type": "code",
   "execution_count": 72,
   "id": "f6268423-60ec-4d9c-8992-ec102767be66",
   "metadata": {},
   "outputs": [],
   "source": [
    "# import louvain\n",
    "# import leidenalg\n",
    "import seaborn"
   ]
  },
  {
   "cell_type": "markdown",
   "id": "3ee8a520-066a-482a-b292-a9ae02b70999",
   "metadata": {},
   "source": [
    "# Compute Downstream metrics"
   ]
  },
  {
   "cell_type": "code",
   "execution_count": null,
   "id": "ef05f44e-9fc9-4e4b-aa6e-c104ce82875a",
   "metadata": {},
   "outputs": [],
   "source": [
    "# inscribing I_go & I_ge into adata.obs \n",
    "adata.obs[\"I_ge\"] = I_ge\n",
    "adata.obs[\"I_go\"] = I_go[\"scEntropy.bootstrap\"].to_numpy()\n",
    "# adata.obs = pd.concat([adata.obs, I_ge], axis=1)\n",
    "\n",
    "# adata.write(\"C:/Users/Dr. Hamad/Downloads/SRSI/SRSI projects/data/TrajectInfer.h5ad\")\n",
    " \n",
    "\n",
    "adata = calculating_ESC(adata, I_ge_label=\"I_ge\", I_go_label=\"I_go\")\n",
    "print(\"Calculating E,S,C\")"
   ]
  },
  {
   "cell_type": "code",
   "execution_count": null,
   "id": "b8425224-9450-4dd4-8a82-d5ba5abab545",
   "metadata": {},
   "outputs": [],
   "source": [
    "# saving adata.with new variables \n",
    "adata.write_h5ad(\"data/Paul15ESC.h5ad\")"
   ]
  },
  {
   "cell_type": "markdown",
   "id": "f04cf579-c1bf-4674-8a78-4f2e18b48d3d",
   "metadata": {},
   "source": [
    "# "
   ]
  }
 ],
 "metadata": {
  "kernelspec": {
   "display_name": "Python 3 (ipykernel)",
   "language": "python",
   "name": "python3"
  },
  "language_info": {
   "codemirror_mode": {
    "name": "ipython",
    "version": 3
   },
   "file_extension": ".py",
   "mimetype": "text/x-python",
   "name": "python",
   "nbconvert_exporter": "python",
   "pygments_lexer": "ipython3",
   "version": "3.10.8"
  }
 },
 "nbformat": 4,
 "nbformat_minor": 5
}
